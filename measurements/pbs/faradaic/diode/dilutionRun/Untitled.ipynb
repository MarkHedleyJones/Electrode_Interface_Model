{
 "cells": [
  {
   "cell_type": "code",
   "execution_count": 33,
   "metadata": {
    "collapsed": false
   },
   "outputs": [
    {
     "name": "stdout",
     "output_type": "stream",
     "text": [
      "Populating the interactive namespace from numpy and matplotlib\n",
      "['black', (0.0, 0.48999999999999999, 0.97999999999999998)]\n",
      "1.0X-PBS_64s_stirred.npy\n",
      "0.9\n",
      "{}\n"
     ]
    },
    {
     "name": "stderr",
     "output_type": "stream",
     "text": [
      "/usr/lib/python3.4/site-packages/matplotlib/__init__.py:855: UserWarning: text.fontsize is deprecated and replaced with font.size; please use the latter.\n",
      "  warnings.warn(self.msg_depr % (key, alt_key))\n"
     ]
    },
    {
     "data": {
      "text/plain": [
       "<matplotlib.figure.Figure at 0x7fb18b78ca90>"
      ]
     },
     "metadata": {},
     "output_type": "display_data"
    },
    {
     "data": {
      "image/png": "[encoded data removed]",
      "text/plain": [
       "<matplotlib.figure.Figure at 0x7fb18b9320f0>"
      ]
     },
     "metadata": {},
     "output_type": "display_data"
    }
   ],
   "source": [
    "%pylab inline\n",
    "sys.path.append('/home/mark/Dropbox/University/PhD/Workbench/')\n",
    "import plot_formatting\n",
    "import os, sys\n",
    "plt.clf()\n",
    "plot_formatting.format(style='thesis')\n",
    "\n",
    "colours = plot_formatting.get_blues(2)\n",
    "colours[0] = 'black'\n",
    "print(colours)\n",
    "start = 420\n",
    "end = 630\n",
    "traces = {}\n",
    "files = [x for x in os.listdir('.') if x[-4:] == '.npy' and x.find('stirred') != -1 and x.find('_64s') != -1 and (x.find('1.0X') != -1)]\n",
    "files.sort(reverse=True)\n",
    "for i, file in enumerate(files):\n",
    "    print(file)\n",
    "    data = np.load(file)\n",
    "    plt.plot(data['time'][start:end], list(map(lambda x: x * 1000000, data['current'][start:end])), label=file[:file.find('X')+1] + ' PBS', marker='d', mec=colours[i], color=colours[i], markersize=1)\n",
    "    for line in data:\n",
    "        if line['time'] > 550 and line['time'] < 552:\n",
    "            print(line['voltage'])\n",
    "print(traces)\n",
    "plt.legend(loc=0, frameon=False)\n",
    "plt.gca().set_xlabel('Time (s)')\n",
    "plt.gca().set_ylabel('Current ($\\mu A$)')\n",
    "plt.savefig(filename='graph_64s_stirred.pdf',format='pdf')"
   ]
  },
  {
   "cell_type": "code",
   "execution_count": null,
   "metadata": {
    "collapsed": false
   },
   "outputs": [],
   "source": [
    "   "
   ]
  }
 ],
 "metadata": {
  "kernelspec": {
   "display_name": "Python 3",
   "language": "python",
   "name": "python3"
  },
  "language_info": {
   "codemirror_mode": {
    "name": "ipython",
    "version": 3
   },
   "file_extension": ".py",
   "mimetype": "text/x-python",
   "name": "python",
   "nbconvert_exporter": "python",
   "pygments_lexer": "ipython3",
   "version": "3.4.3"
  }
 },
 "nbformat": 4,
 "nbformat_minor": 0
}
